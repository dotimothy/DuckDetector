{
  "cells": [
    {
      "cell_type": "markdown",
      "metadata": {
        "id": "view-in-github",
        "colab_type": "text"
      },
      "source": [
        "<a href=\"https://colab.research.google.com/github/dotimothy/DuckDetector/blob/model/TrainDuckDetector.ipynb\" target=\"_parent\"><img src=\"https://colab.research.google.com/assets/colab-badge.svg\" alt=\"Open In Colab\"/></a>"
      ]
    },
    {
      "cell_type": "markdown",
      "metadata": {
        "id": "O2NpM3bMKMWI"
      },
      "source": [
        "# 🦆 DuckDetector: A Project for Automatically Detecting Ducks 🦆\n",
        "**Author:** [Timothy Do](https://timothydo.me)"
      ]
    },
    {
      "cell_type": "markdown",
      "metadata": {
        "id": "2MUpM49ZKMWJ"
      },
      "source": [
        "## Setup"
      ]
    },
    {
      "cell_type": "code",
      "execution_count": 1,
      "metadata": {
        "id": "Ro4yzDdzKMWJ"
      },
      "outputs": [],
      "source": [
        "# Check if Environment is in Google CoLab:\n",
        "IN_COLAB = True\n",
        "try:\n",
        "    import google.colab\n",
        "except:\n",
        "    IN_COLAB = False"
      ]
    },
    {
      "cell_type": "code",
      "execution_count": 5,
      "metadata": {
        "id": "4JFTpZpVKMWK",
        "outputId": "bc0dabd1-0dfc-4df4-b983-c9f2a7ca13ef",
        "colab": {
          "base_uri": "https://localhost:8080/"
        }
      },
      "outputs": [
        {
          "output_type": "stream",
          "name": "stdout",
          "text": [
            "  % Total    % Received % Xferd  Average Speed   Time    Time     Time  Current\n",
            "                                 Dload  Upload   Total   Spent    Left  Speed\n",
            "\r  0     0    0     0    0     0      0      0 --:--:-- --:--:-- --:--:--     0\r100  1653  100  1653    0     0   8424      0 --:--:-- --:--:-- --:--:--  8433\n",
            "Requirement already satisfied: gitpython>=3.1.30 in /usr/local/lib/python3.10/dist-packages (from -r requirements.txt (line 5)) (3.1.43)\n",
            "Requirement already satisfied: matplotlib>=3.3 in /usr/local/lib/python3.10/dist-packages (from -r requirements.txt (line 6)) (3.7.1)\n",
            "Requirement already satisfied: numpy>=1.23.5 in /usr/local/lib/python3.10/dist-packages (from -r requirements.txt (line 7)) (1.26.4)\n",
            "Requirement already satisfied: opencv-python>=4.1.1 in /usr/local/lib/python3.10/dist-packages (from -r requirements.txt (line 8)) (4.10.0.84)\n",
            "Requirement already satisfied: Pillow>=10.0.1 in /usr/local/lib/python3.10/dist-packages (from -r requirements.txt (line 9)) (10.4.0)\n",
            "Requirement already satisfied: psutil in /usr/local/lib/python3.10/dist-packages (from -r requirements.txt (line 10)) (5.9.5)\n",
            "Requirement already satisfied: PyYAML>=5.3.1 in /usr/local/lib/python3.10/dist-packages (from -r requirements.txt (line 11)) (6.0.1)\n",
            "Requirement already satisfied: requests>=2.23.0 in /usr/local/lib/python3.10/dist-packages (from -r requirements.txt (line 12)) (2.32.3)\n",
            "Requirement already satisfied: scipy>=1.4.1 in /usr/local/lib/python3.10/dist-packages (from -r requirements.txt (line 13)) (1.13.1)\n",
            "Requirement already satisfied: thop>=0.1.1 in /usr/local/lib/python3.10/dist-packages (from -r requirements.txt (line 14)) (0.1.1.post2209072238)\n",
            "Requirement already satisfied: torch>=1.8.0 in /usr/local/lib/python3.10/dist-packages (from -r requirements.txt (line 15)) (2.3.1+cu121)\n",
            "Requirement already satisfied: torchvision>=0.9.0 in /usr/local/lib/python3.10/dist-packages (from -r requirements.txt (line 16)) (0.18.1+cu121)\n",
            "Requirement already satisfied: tqdm>=4.64.0 in /usr/local/lib/python3.10/dist-packages (from -r requirements.txt (line 17)) (4.66.5)\n",
            "Requirement already satisfied: ultralytics>=8.0.232 in /usr/local/lib/python3.10/dist-packages (from -r requirements.txt (line 18)) (8.2.74)\n",
            "Requirement already satisfied: pandas>=1.1.4 in /usr/local/lib/python3.10/dist-packages (from -r requirements.txt (line 27)) (2.1.4)\n",
            "Requirement already satisfied: seaborn>=0.11.0 in /usr/local/lib/python3.10/dist-packages (from -r requirements.txt (line 28)) (0.13.1)\n",
            "Requirement already satisfied: setuptools>=65.5.1 in /usr/local/lib/python3.10/dist-packages (from -r requirements.txt (line 42)) (71.0.4)\n",
            "Requirement already satisfied: GPUtil in /usr/local/lib/python3.10/dist-packages (from -r requirements.txt (line 53)) (1.4.0)\n",
            "Requirement already satisfied: py-cpuinfo in /usr/local/lib/python3.10/dist-packages (from -r requirements.txt (line 54)) (9.0.0)\n",
            "Requirement already satisfied: openimages in /usr/local/lib/python3.10/dist-packages (from -r requirements.txt (line 57)) (0.0.1)\n",
            "Requirement already satisfied: label-studio in /usr/local/lib/python3.10/dist-packages (from -r requirements.txt (line 58)) (1.13.0)\n",
            "Requirement already satisfied: gitdb<5,>=4.0.1 in /usr/local/lib/python3.10/dist-packages (from gitpython>=3.1.30->-r requirements.txt (line 5)) (4.0.11)\n",
            "Requirement already satisfied: contourpy>=1.0.1 in /usr/local/lib/python3.10/dist-packages (from matplotlib>=3.3->-r requirements.txt (line 6)) (1.2.1)\n",
            "Requirement already satisfied: cycler>=0.10 in /usr/local/lib/python3.10/dist-packages (from matplotlib>=3.3->-r requirements.txt (line 6)) (0.12.1)\n",
            "Requirement already satisfied: fonttools>=4.22.0 in /usr/local/lib/python3.10/dist-packages (from matplotlib>=3.3->-r requirements.txt (line 6)) (4.53.1)\n",
            "Requirement already satisfied: kiwisolver>=1.0.1 in /usr/local/lib/python3.10/dist-packages (from matplotlib>=3.3->-r requirements.txt (line 6)) (1.4.5)\n",
            "Requirement already satisfied: packaging>=20.0 in /usr/local/lib/python3.10/dist-packages (from matplotlib>=3.3->-r requirements.txt (line 6)) (24.1)\n",
            "Requirement already satisfied: pyparsing>=2.3.1 in /usr/local/lib/python3.10/dist-packages (from matplotlib>=3.3->-r requirements.txt (line 6)) (3.1.2)\n",
            "Requirement already satisfied: python-dateutil>=2.7 in /usr/local/lib/python3.10/dist-packages (from matplotlib>=3.3->-r requirements.txt (line 6)) (2.8.2)\n",
            "Requirement already satisfied: charset-normalizer<4,>=2 in /usr/local/lib/python3.10/dist-packages (from requests>=2.23.0->-r requirements.txt (line 12)) (3.3.2)\n",
            "Requirement already satisfied: idna<4,>=2.5 in /usr/local/lib/python3.10/dist-packages (from requests>=2.23.0->-r requirements.txt (line 12)) (3.7)\n",
            "Requirement already satisfied: urllib3<3,>=1.21.1 in /usr/local/lib/python3.10/dist-packages (from requests>=2.23.0->-r requirements.txt (line 12)) (1.26.19)\n",
            "Requirement already satisfied: certifi>=2017.4.17 in /usr/local/lib/python3.10/dist-packages (from requests>=2.23.0->-r requirements.txt (line 12)) (2024.7.4)\n",
            "Requirement already satisfied: filelock in /usr/local/lib/python3.10/dist-packages (from torch>=1.8.0->-r requirements.txt (line 15)) (3.15.4)\n",
            "Requirement already satisfied: typing-extensions>=4.8.0 in /usr/local/lib/python3.10/dist-packages (from torch>=1.8.0->-r requirements.txt (line 15)) (4.12.2)\n",
            "Requirement already satisfied: sympy in /usr/local/lib/python3.10/dist-packages (from torch>=1.8.0->-r requirements.txt (line 15)) (1.13.1)\n",
            "Requirement already satisfied: networkx in /usr/local/lib/python3.10/dist-packages (from torch>=1.8.0->-r requirements.txt (line 15)) (3.3)\n",
            "Requirement already satisfied: jinja2 in /usr/local/lib/python3.10/dist-packages (from torch>=1.8.0->-r requirements.txt (line 15)) (3.1.4)\n",
            "Requirement already satisfied: fsspec in /usr/local/lib/python3.10/dist-packages (from torch>=1.8.0->-r requirements.txt (line 15)) (2024.6.1)\n",
            "Requirement already satisfied: nvidia-cuda-nvrtc-cu12==12.1.105 in /usr/local/lib/python3.10/dist-packages (from torch>=1.8.0->-r requirements.txt (line 15)) (12.1.105)\n",
            "Requirement already satisfied: nvidia-cuda-runtime-cu12==12.1.105 in /usr/local/lib/python3.10/dist-packages (from torch>=1.8.0->-r requirements.txt (line 15)) (12.1.105)\n",
            "Requirement already satisfied: nvidia-cuda-cupti-cu12==12.1.105 in /usr/local/lib/python3.10/dist-packages (from torch>=1.8.0->-r requirements.txt (line 15)) (12.1.105)\n",
            "Requirement already satisfied: nvidia-cudnn-cu12==8.9.2.26 in /usr/local/lib/python3.10/dist-packages (from torch>=1.8.0->-r requirements.txt (line 15)) (8.9.2.26)\n",
            "Requirement already satisfied: nvidia-cublas-cu12==12.1.3.1 in /usr/local/lib/python3.10/dist-packages (from torch>=1.8.0->-r requirements.txt (line 15)) (12.1.3.1)\n",
            "Requirement already satisfied: nvidia-cufft-cu12==11.0.2.54 in /usr/local/lib/python3.10/dist-packages (from torch>=1.8.0->-r requirements.txt (line 15)) (11.0.2.54)\n",
            "Requirement already satisfied: nvidia-curand-cu12==10.3.2.106 in /usr/local/lib/python3.10/dist-packages (from torch>=1.8.0->-r requirements.txt (line 15)) (10.3.2.106)\n",
            "Requirement already satisfied: nvidia-cusolver-cu12==11.4.5.107 in /usr/local/lib/python3.10/dist-packages (from torch>=1.8.0->-r requirements.txt (line 15)) (11.4.5.107)\n",
            "Requirement already satisfied: nvidia-cusparse-cu12==12.1.0.106 in /usr/local/lib/python3.10/dist-packages (from torch>=1.8.0->-r requirements.txt (line 15)) (12.1.0.106)\n",
            "Requirement already satisfied: nvidia-nccl-cu12==2.20.5 in /usr/local/lib/python3.10/dist-packages (from torch>=1.8.0->-r requirements.txt (line 15)) (2.20.5)\n",
            "Requirement already satisfied: nvidia-nvtx-cu12==12.1.105 in /usr/local/lib/python3.10/dist-packages (from torch>=1.8.0->-r requirements.txt (line 15)) (12.1.105)\n",
            "Requirement already satisfied: triton==2.3.1 in /usr/local/lib/python3.10/dist-packages (from torch>=1.8.0->-r requirements.txt (line 15)) (2.3.1)\n",
            "Requirement already satisfied: nvidia-nvjitlink-cu12 in /usr/local/lib/python3.10/dist-packages (from nvidia-cusolver-cu12==11.4.5.107->torch>=1.8.0->-r requirements.txt (line 15)) (12.6.20)\n",
            "Requirement already satisfied: ultralytics-thop>=2.0.0 in /usr/local/lib/python3.10/dist-packages (from ultralytics>=8.0.232->-r requirements.txt (line 18)) (2.0.0)\n",
            "Requirement already satisfied: pytz>=2020.1 in /usr/local/lib/python3.10/dist-packages (from pandas>=1.1.4->-r requirements.txt (line 27)) (2022.7.1)\n",
            "Requirement already satisfied: tzdata>=2022.1 in /usr/local/lib/python3.10/dist-packages (from pandas>=1.1.4->-r requirements.txt (line 27)) (2024.1)\n",
            "Requirement already satisfied: boto3 in /usr/local/lib/python3.10/dist-packages (from openimages->-r requirements.txt (line 57)) (1.34.156)\n",
            "Requirement already satisfied: cvdata in /usr/local/lib/python3.10/dist-packages (from openimages->-r requirements.txt (line 57)) (0.0.3)\n",
            "Requirement already satisfied: lxml in /usr/local/lib/python3.10/dist-packages (from openimages->-r requirements.txt (line 57)) (4.9.4)\n",
            "Requirement already satisfied: Django<3.3.0,>=3.2.24 in /usr/local/lib/python3.10/dist-packages (from label-studio->-r requirements.txt (line 58)) (3.2.25)\n",
            "Requirement already satisfied: appdirs>=1.4.3 in /usr/local/lib/python3.10/dist-packages (from label-studio->-r requirements.txt (line 58)) (1.4.4)\n",
            "Requirement already satisfied: attr==0.3.1 in /usr/local/lib/python3.10/dist-packages (from label-studio->-r requirements.txt (line 58)) (0.3.1)\n",
            "Requirement already satisfied: attrs>=19.2.0 in /usr/local/lib/python3.10/dist-packages (from label-studio->-r requirements.txt (line 58)) (24.1.0)\n",
            "Requirement already satisfied: azure-storage-blob>=12.6.0 in /usr/local/lib/python3.10/dist-packages (from label-studio->-r requirements.txt (line 58)) (12.22.0)\n",
            "Requirement already satisfied: bleach<5.1.0,>=5.0.0 in /usr/local/lib/python3.10/dist-packages (from label-studio->-r requirements.txt (line 58)) (5.0.1)\n",
            "Requirement already satisfied: boto<3.0.0,>=2.49.0 in /usr/local/lib/python3.10/dist-packages (from label-studio->-r requirements.txt (line 58)) (2.49.0)\n",
            "Requirement already satisfied: botocore<2.0.0,>=1.31.58 in /usr/local/lib/python3.10/dist-packages (from label-studio->-r requirements.txt (line 58)) (1.34.156)\n",
            "Requirement already satisfied: boxing>=0.1.4 in /usr/local/lib/python3.10/dist-packages (from label-studio->-r requirements.txt (line 58)) (0.1.4)\n",
            "Requirement already satisfied: colorama>=0.4.4 in /usr/local/lib/python3.10/dist-packages (from label-studio->-r requirements.txt (line 58)) (0.4.6)\n",
            "Requirement already satisfied: defusedxml>=0.7.1 in /usr/local/lib/python3.10/dist-packages (from label-studio->-r requirements.txt (line 58)) (0.7.1)\n",
            "Requirement already satisfied: django-annoying==0.10.6 in /usr/local/lib/python3.10/dist-packages (from label-studio->-r requirements.txt (line 58)) (0.10.6)\n",
            "Requirement already satisfied: django-cors-headers==3.6.0 in /usr/local/lib/python3.10/dist-packages (from label-studio->-r requirements.txt (line 58)) (3.6.0)\n",
            "Requirement already satisfied: django-csp==3.7 in /usr/local/lib/python3.10/dist-packages (from label-studio->-r requirements.txt (line 58)) (3.7)\n",
            "Requirement already satisfied: django-debug-toolbar==3.2.1 in /usr/local/lib/python3.10/dist-packages (from label-studio->-r requirements.txt (line 58)) (3.2.1)\n",
            "Requirement already satisfied: django-environ==0.10.0 in /usr/local/lib/python3.10/dist-packages (from label-studio->-r requirements.txt (line 58)) (0.10.0)\n",
            "Requirement already satisfied: django-extensions==3.1.0 in /usr/local/lib/python3.10/dist-packages (from label-studio->-r requirements.txt (line 58)) (3.1.0)\n",
            "Requirement already satisfied: django-filter==2.4.0 in /usr/local/lib/python3.10/dist-packages (from label-studio->-r requirements.txt (line 58)) (2.4.0)\n",
            "Requirement already satisfied: django-model-utils==4.1.1 in /usr/local/lib/python3.10/dist-packages (from label-studio->-r requirements.txt (line 58)) (4.1.1)\n",
            "Requirement already satisfied: django-ranged-fileresponse>=0.1.2 in /usr/local/lib/python3.10/dist-packages (from label-studio->-r requirements.txt (line 58)) (0.1.2)\n",
            "Requirement already satisfied: django-rq==2.5.1 in /usr/local/lib/python3.10/dist-packages (from label-studio->-r requirements.txt (line 58)) (2.5.1)\n",
            "Requirement already satisfied: django-storages==1.12.3 in /usr/local/lib/python3.10/dist-packages (from label-studio->-r requirements.txt (line 58)) (1.12.3)\n",
            "Requirement already satisfied: django-user-agents==0.4.0 in /usr/local/lib/python3.10/dist-packages (from label-studio->-r requirements.txt (line 58)) (0.4.0)\n",
            "Requirement already satisfied: djangorestframework==3.13.1 in /usr/local/lib/python3.10/dist-packages (from label-studio->-r requirements.txt (line 58)) (3.13.1)\n",
            "Requirement already satisfied: drf-dynamic-fields==0.3.0 in /usr/local/lib/python3.10/dist-packages (from label-studio->-r requirements.txt (line 58)) (0.3.0)\n",
            "Requirement already satisfied: drf-flex-fields==0.9.5 in /usr/local/lib/python3.10/dist-packages (from label-studio->-r requirements.txt (line 58)) (0.9.5)\n",
            "Requirement already satisfied: drf-generators==0.3.0 in /usr/local/lib/python3.10/dist-packages (from label-studio->-r requirements.txt (line 58)) (0.3.0)\n",
            "Requirement already satisfied: google-cloud-logging<4.0.0,>=3.10.0 in /usr/local/lib/python3.10/dist-packages (from label-studio->-r requirements.txt (line 58)) (3.11.1)\n",
            "Requirement already satisfied: google-cloud-storage<3.0.0,>=2.13.0 in /usr/local/lib/python3.10/dist-packages (from label-studio->-r requirements.txt (line 58)) (2.18.1)\n",
            "Requirement already satisfied: htmlmin==0.1.12 in /usr/local/lib/python3.10/dist-packages (from label-studio->-r requirements.txt (line 58)) (0.1.12)\n",
            "Requirement already satisfied: humansignal-drf-yasg>=1.21.9 in /usr/local/lib/python3.10/dist-packages (from label-studio->-r requirements.txt (line 58)) (1.21.9)\n",
            "Requirement already satisfied: jsonschema==3.2.0 in /usr/local/lib/python3.10/dist-packages (from label-studio->-r requirements.txt (line 58)) (3.2.0)\n",
            "Requirement already satisfied: label-studio-sdk==1.0.4 in /usr/local/lib/python3.10/dist-packages (from label-studio->-r requirements.txt (line 58)) (1.0.4)\n",
            "Requirement already satisfied: launchdarkly-server-sdk==8.2.1 in /usr/local/lib/python3.10/dist-packages (from label-studio->-r requirements.txt (line 58)) (8.2.1)\n",
            "Requirement already satisfied: lockfile>=0.12.0 in /usr/local/lib/python3.10/dist-packages (from label-studio->-r requirements.txt (line 58)) (0.12.2)\n",
            "Requirement already satisfied: openai<2.0.0,>=1.10.0 in /usr/local/lib/python3.10/dist-packages (from label-studio->-r requirements.txt (line 58)) (1.40.1)\n",
            "Requirement already satisfied: ordered-set==4.0.2 in /usr/local/lib/python3.10/dist-packages (from label-studio->-r requirements.txt (line 58)) (4.0.2)\n",
            "Requirement already satisfied: psycopg2-binary==2.9.9 in /usr/local/lib/python3.10/dist-packages (from label-studio->-r requirements.txt (line 58)) (2.9.9)\n",
            "Requirement already satisfied: pydantic>=2.7.3 in /usr/local/lib/python3.10/dist-packages (from label-studio->-r requirements.txt (line 58)) (2.8.2)\n",
            "Requirement already satisfied: python-json-logger==2.0.4 in /usr/local/lib/python3.10/dist-packages (from label-studio->-r requirements.txt (line 58)) (2.0.4)\n",
            "Requirement already satisfied: redis<4.0,>=3.5 in /usr/local/lib/python3.10/dist-packages (from label-studio->-r requirements.txt (line 58)) (3.5.3)\n",
            "Requirement already satisfied: rq==1.10.1 in /usr/local/lib/python3.10/dist-packages (from label-studio->-r requirements.txt (line 58)) (1.10.1)\n",
            "Requirement already satisfied: rules==2.2 in /usr/local/lib/python3.10/dist-packages (from label-studio->-r requirements.txt (line 58)) (2.2)\n",
            "Requirement already satisfied: sentry-sdk>=1.1.0 in /usr/local/lib/python3.10/dist-packages (from label-studio->-r requirements.txt (line 58)) (2.12.0)\n",
            "Requirement already satisfied: ujson>=3.0.0 in /usr/local/lib/python3.10/dist-packages (from label-studio->-r requirements.txt (line 58)) (5.10.0)\n",
            "Requirement already satisfied: wheel<=0.40.0,>=0.38.1 in /usr/local/lib/python3.10/dist-packages (from label-studio->-r requirements.txt (line 58)) (0.40.0)\n",
            "Requirement already satisfied: xmljson==0.2.1 in /usr/local/lib/python3.10/dist-packages (from label-studio->-r requirements.txt (line 58)) (0.2.1)\n",
            "Requirement already satisfied: six in /usr/local/lib/python3.10/dist-packages (from django-annoying==0.10.6->label-studio->-r requirements.txt (line 58)) (1.16.0)\n",
            "Requirement already satisfied: sqlparse>=0.2.0 in /usr/local/lib/python3.10/dist-packages (from django-debug-toolbar==3.2.1->label-studio->-r requirements.txt (line 58)) (0.5.1)\n",
            "Requirement already satisfied: user-agents in /usr/local/lib/python3.10/dist-packages (from django-user-agents==0.4.0->label-studio->-r requirements.txt (line 58)) (2.2.0)\n",
            "Requirement already satisfied: pyrsistent>=0.14.0 in /usr/local/lib/python3.10/dist-packages (from jsonschema==3.2.0->label-studio->-r requirements.txt (line 58)) (0.20.0)\n",
            "Requirement already satisfied: httpx>=0.21.2 in /usr/local/lib/python3.10/dist-packages (from label-studio-sdk==1.0.4->label-studio->-r requirements.txt (line 58)) (0.27.0)\n",
            "Requirement already satisfied: ijson>=3.2.3 in /usr/local/lib/python3.10/dist-packages (from label-studio-sdk==1.0.4->label-studio->-r requirements.txt (line 58)) (3.3.0)\n",
            "Requirement already satisfied: nltk==3.6.7 in /usr/local/lib/python3.10/dist-packages (from label-studio-sdk==1.0.4->label-studio->-r requirements.txt (line 58)) (3.6.7)\n",
            "Requirement already satisfied: requests-mock==1.12.1 in /usr/local/lib/python3.10/dist-packages (from label-studio-sdk==1.0.4->label-studio->-r requirements.txt (line 58)) (1.12.1)\n",
            "Requirement already satisfied: expiringdict>=1.1.4 in /usr/local/lib/python3.10/dist-packages (from launchdarkly-server-sdk==8.2.1->label-studio->-r requirements.txt (line 58)) (1.2.2)\n",
            "Requirement already satisfied: pyRFC3339>=1.0 in /usr/local/lib/python3.10/dist-packages (from launchdarkly-server-sdk==8.2.1->label-studio->-r requirements.txt (line 58)) (1.1)\n",
            "Requirement already satisfied: semver>=2.10.2 in /usr/local/lib/python3.10/dist-packages (from launchdarkly-server-sdk==8.2.1->label-studio->-r requirements.txt (line 58)) (3.0.2)\n",
            "Requirement already satisfied: click>=5.0.0 in /usr/local/lib/python3.10/dist-packages (from rq==1.10.1->label-studio->-r requirements.txt (line 58)) (8.1.7)\n",
            "Requirement already satisfied: joblib in /usr/local/lib/python3.10/dist-packages (from nltk==3.6.7->label-studio-sdk==1.0.4->label-studio->-r requirements.txt (line 58)) (1.4.2)\n",
            "Requirement already satisfied: regex>=2021.8.3 in /usr/local/lib/python3.10/dist-packages (from nltk==3.6.7->label-studio-sdk==1.0.4->label-studio->-r requirements.txt (line 58)) (2024.5.15)\n",
            "Requirement already satisfied: azure-core>=1.28.0 in /usr/local/lib/python3.10/dist-packages (from azure-storage-blob>=12.6.0->label-studio->-r requirements.txt (line 58)) (1.30.2)\n",
            "Requirement already satisfied: cryptography>=2.1.4 in /usr/local/lib/python3.10/dist-packages (from azure-storage-blob>=12.6.0->label-studio->-r requirements.txt (line 58)) (42.0.8)\n",
            "Requirement already satisfied: isodate>=0.6.1 in /usr/local/lib/python3.10/dist-packages (from azure-storage-blob>=12.6.0->label-studio->-r requirements.txt (line 58)) (0.6.1)\n",
            "Requirement already satisfied: webencodings in /usr/local/lib/python3.10/dist-packages (from bleach<5.1.0,>=5.0.0->label-studio->-r requirements.txt (line 58)) (0.5.1)\n",
            "Requirement already satisfied: jmespath<2.0.0,>=0.7.1 in /usr/local/lib/python3.10/dist-packages (from boto3->openimages->-r requirements.txt (line 57)) (1.0.1)\n",
            "Requirement already satisfied: s3transfer<0.11.0,>=0.10.0 in /usr/local/lib/python3.10/dist-packages (from boto3->openimages->-r requirements.txt (line 57)) (0.10.2)\n",
            "Requirement already satisfied: asgiref<4,>=3.3.2 in /usr/local/lib/python3.10/dist-packages (from Django<3.3.0,>=3.2.24->label-studio->-r requirements.txt (line 58)) (3.8.1)\n",
            "Requirement already satisfied: smmap<6,>=3.0.1 in /usr/local/lib/python3.10/dist-packages (from gitdb<5,>=4.0.1->gitpython>=3.1.30->-r requirements.txt (line 5)) (5.0.1)\n",
            "Requirement already satisfied: google-api-core!=2.0.*,!=2.1.*,!=2.10.*,!=2.2.*,!=2.3.*,!=2.4.*,!=2.5.*,!=2.6.*,!=2.7.*,!=2.8.*,!=2.9.*,<3.0.0dev,>=1.34.1 in /usr/local/lib/python3.10/dist-packages (from google-api-core[grpc]!=2.0.*,!=2.1.*,!=2.10.*,!=2.2.*,!=2.3.*,!=2.4.*,!=2.5.*,!=2.6.*,!=2.7.*,!=2.8.*,!=2.9.*,<3.0.0dev,>=1.34.1->google-cloud-logging<4.0.0,>=3.10.0->label-studio->-r requirements.txt (line 58)) (2.19.1)\n",
            "Requirement already satisfied: google-auth!=2.24.0,!=2.25.0,<3.0.0dev,>=2.14.1 in /usr/local/lib/python3.10/dist-packages (from google-cloud-logging<4.0.0,>=3.10.0->label-studio->-r requirements.txt (line 58)) (2.27.0)\n",
            "Requirement already satisfied: google-cloud-appengine-logging<2.0.0dev,>=0.1.0 in /usr/local/lib/python3.10/dist-packages (from google-cloud-logging<4.0.0,>=3.10.0->label-studio->-r requirements.txt (line 58)) (1.4.5)\n",
            "Requirement already satisfied: google-cloud-audit-log<1.0.0dev,>=0.1.0 in /usr/local/lib/python3.10/dist-packages (from google-cloud-logging<4.0.0,>=3.10.0->label-studio->-r requirements.txt (line 58)) (0.2.5)\n",
            "Requirement already satisfied: google-cloud-core<3.0.0dev,>=2.0.0 in /usr/local/lib/python3.10/dist-packages (from google-cloud-logging<4.0.0,>=3.10.0->label-studio->-r requirements.txt (line 58)) (2.4.1)\n",
            "Requirement already satisfied: grpc-google-iam-v1<1.0.0dev,>=0.12.4 in /usr/local/lib/python3.10/dist-packages (from google-cloud-logging<4.0.0,>=3.10.0->label-studio->-r requirements.txt (line 58)) (0.13.1)\n",
            "Requirement already satisfied: opentelemetry-api>=1.0.0 in /usr/local/lib/python3.10/dist-packages (from google-cloud-logging<4.0.0,>=3.10.0->label-studio->-r requirements.txt (line 58)) (1.26.0)\n",
            "Requirement already satisfied: proto-plus<2.0.0dev,>=1.22.0 in /usr/local/lib/python3.10/dist-packages (from google-cloud-logging<4.0.0,>=3.10.0->label-studio->-r requirements.txt (line 58)) (1.24.0)\n",
            "Requirement already satisfied: protobuf!=4.21.0,!=4.21.1,!=4.21.2,!=4.21.3,!=4.21.4,!=4.21.5,<6.0.0dev,>=3.20.2 in /usr/local/lib/python3.10/dist-packages (from google-cloud-logging<4.0.0,>=3.10.0->label-studio->-r requirements.txt (line 58)) (3.20.3)\n",
            "Requirement already satisfied: google-resumable-media>=2.6.0 in /usr/local/lib/python3.10/dist-packages (from google-cloud-storage<3.0.0,>=2.13.0->label-studio->-r requirements.txt (line 58)) (2.7.1)\n",
            "Requirement already satisfied: google-crc32c<2.0dev,>=1.0 in /usr/local/lib/python3.10/dist-packages (from google-cloud-storage<3.0.0,>=2.13.0->label-studio->-r requirements.txt (line 58)) (1.5.0)\n",
            "Requirement already satisfied: inflection>=0.3.1 in /usr/local/lib/python3.10/dist-packages (from humansignal-drf-yasg>=1.21.9->label-studio->-r requirements.txt (line 58)) (0.5.1)\n",
            "Requirement already satisfied: uritemplate>=3.0.0 in /usr/local/lib/python3.10/dist-packages (from humansignal-drf-yasg>=1.21.9->label-studio->-r requirements.txt (line 58)) (4.1.1)\n",
            "Requirement already satisfied: anyio<5,>=3.5.0 in /usr/local/lib/python3.10/dist-packages (from openai<2.0.0,>=1.10.0->label-studio->-r requirements.txt (line 58)) (3.7.1)\n",
            "Requirement already satisfied: distro<2,>=1.7.0 in /usr/lib/python3/dist-packages (from openai<2.0.0,>=1.10.0->label-studio->-r requirements.txt (line 58)) (1.7.0)\n",
            "Requirement already satisfied: jiter<1,>=0.4.0 in /usr/local/lib/python3.10/dist-packages (from openai<2.0.0,>=1.10.0->label-studio->-r requirements.txt (line 58)) (0.5.0)\n",
            "Requirement already satisfied: sniffio in /usr/local/lib/python3.10/dist-packages (from openai<2.0.0,>=1.10.0->label-studio->-r requirements.txt (line 58)) (1.3.1)\n",
            "Requirement already satisfied: annotated-types>=0.4.0 in /usr/local/lib/python3.10/dist-packages (from pydantic>=2.7.3->label-studio->-r requirements.txt (line 58)) (0.7.0)\n",
            "Requirement already satisfied: pydantic-core==2.20.1 in /usr/local/lib/python3.10/dist-packages (from pydantic>=2.7.3->label-studio->-r requirements.txt (line 58)) (2.20.1)\n",
            "Requirement already satisfied: MarkupSafe>=2.0 in /usr/local/lib/python3.10/dist-packages (from jinja2->torch>=1.8.0->-r requirements.txt (line 15)) (2.1.5)\n",
            "Requirement already satisfied: mpmath<1.4,>=1.1.0 in /usr/local/lib/python3.10/dist-packages (from sympy->torch>=1.8.0->-r requirements.txt (line 15)) (1.3.0)\n",
            "Requirement already satisfied: exceptiongroup in /usr/local/lib/python3.10/dist-packages (from anyio<5,>=3.5.0->openai<2.0.0,>=1.10.0->label-studio->-r requirements.txt (line 58)) (1.2.2)\n",
            "Requirement already satisfied: cffi>=1.12 in /usr/local/lib/python3.10/dist-packages (from cryptography>=2.1.4->azure-storage-blob>=12.6.0->label-studio->-r requirements.txt (line 58)) (1.16.0)\n",
            "Requirement already satisfied: googleapis-common-protos<2.0.dev0,>=1.56.2 in /usr/local/lib/python3.10/dist-packages (from google-api-core!=2.0.*,!=2.1.*,!=2.10.*,!=2.2.*,!=2.3.*,!=2.4.*,!=2.5.*,!=2.6.*,!=2.7.*,!=2.8.*,!=2.9.*,<3.0.0dev,>=1.34.1->google-api-core[grpc]!=2.0.*,!=2.1.*,!=2.10.*,!=2.2.*,!=2.3.*,!=2.4.*,!=2.5.*,!=2.6.*,!=2.7.*,!=2.8.*,!=2.9.*,<3.0.0dev,>=1.34.1->google-cloud-logging<4.0.0,>=3.10.0->label-studio->-r requirements.txt (line 58)) (1.63.2)\n",
            "Requirement already satisfied: grpcio<2.0dev,>=1.33.2 in /usr/local/lib/python3.10/dist-packages (from google-api-core[grpc]!=2.0.*,!=2.1.*,!=2.10.*,!=2.2.*,!=2.3.*,!=2.4.*,!=2.5.*,!=2.6.*,!=2.7.*,!=2.8.*,!=2.9.*,<3.0.0dev,>=1.34.1->google-cloud-logging<4.0.0,>=3.10.0->label-studio->-r requirements.txt (line 58)) (1.64.1)\n",
            "Requirement already satisfied: grpcio-status<2.0.dev0,>=1.33.2 in /usr/local/lib/python3.10/dist-packages (from google-api-core[grpc]!=2.0.*,!=2.1.*,!=2.10.*,!=2.2.*,!=2.3.*,!=2.4.*,!=2.5.*,!=2.6.*,!=2.7.*,!=2.8.*,!=2.9.*,<3.0.0dev,>=1.34.1->google-cloud-logging<4.0.0,>=3.10.0->label-studio->-r requirements.txt (line 58)) (1.48.2)\n",
            "Requirement already satisfied: cachetools<6.0,>=2.0.0 in /usr/local/lib/python3.10/dist-packages (from google-auth!=2.24.0,!=2.25.0,<3.0.0dev,>=2.14.1->google-cloud-logging<4.0.0,>=3.10.0->label-studio->-r requirements.txt (line 58)) (5.4.0)\n",
            "Requirement already satisfied: pyasn1-modules>=0.2.1 in /usr/local/lib/python3.10/dist-packages (from google-auth!=2.24.0,!=2.25.0,<3.0.0dev,>=2.14.1->google-cloud-logging<4.0.0,>=3.10.0->label-studio->-r requirements.txt (line 58)) (0.4.0)\n",
            "Requirement already satisfied: rsa<5,>=3.1.4 in /usr/local/lib/python3.10/dist-packages (from google-auth!=2.24.0,!=2.25.0,<3.0.0dev,>=2.14.1->google-cloud-logging<4.0.0,>=3.10.0->label-studio->-r requirements.txt (line 58)) (4.9)\n",
            "Requirement already satisfied: httpcore==1.* in /usr/local/lib/python3.10/dist-packages (from httpx>=0.21.2->label-studio-sdk==1.0.4->label-studio->-r requirements.txt (line 58)) (1.0.5)\n",
            "Requirement already satisfied: h11<0.15,>=0.13 in /usr/local/lib/python3.10/dist-packages (from httpcore==1.*->httpx>=0.21.2->label-studio-sdk==1.0.4->label-studio->-r requirements.txt (line 58)) (0.14.0)\n",
            "Requirement already satisfied: deprecated>=1.2.6 in /usr/local/lib/python3.10/dist-packages (from opentelemetry-api>=1.0.0->google-cloud-logging<4.0.0,>=3.10.0->label-studio->-r requirements.txt (line 58)) (1.2.14)\n",
            "Requirement already satisfied: importlib-metadata<=8.0.0,>=6.0 in /usr/local/lib/python3.10/dist-packages (from opentelemetry-api>=1.0.0->google-cloud-logging<4.0.0,>=3.10.0->label-studio->-r requirements.txt (line 58)) (8.0.0)\n",
            "Requirement already satisfied: ua-parser>=0.10.0 in /usr/local/lib/python3.10/dist-packages (from user-agents->django-user-agents==0.4.0->label-studio->-r requirements.txt (line 58)) (0.18.0)\n",
            "Requirement already satisfied: pycparser in /usr/local/lib/python3.10/dist-packages (from cffi>=1.12->cryptography>=2.1.4->azure-storage-blob>=12.6.0->label-studio->-r requirements.txt (line 58)) (2.22)\n",
            "Requirement already satisfied: wrapt<2,>=1.10 in /usr/local/lib/python3.10/dist-packages (from deprecated>=1.2.6->opentelemetry-api>=1.0.0->google-cloud-logging<4.0.0,>=3.10.0->label-studio->-r requirements.txt (line 58)) (1.16.0)\n",
            "Requirement already satisfied: zipp>=0.5 in /usr/local/lib/python3.10/dist-packages (from importlib-metadata<=8.0.0,>=6.0->opentelemetry-api>=1.0.0->google-cloud-logging<4.0.0,>=3.10.0->label-studio->-r requirements.txt (line 58)) (3.19.2)\n",
            "Requirement already satisfied: pyasn1<0.7.0,>=0.4.6 in /usr/local/lib/python3.10/dist-packages (from pyasn1-modules>=0.2.1->google-auth!=2.24.0,!=2.25.0,<3.0.0dev,>=2.14.1->google-cloud-logging<4.0.0,>=3.10.0->label-studio->-r requirements.txt (line 58)) (0.6.0)\n",
            "Collecting pycuda\n",
            "  Downloading pycuda-2024.1.2.tar.gz (1.7 MB)\n",
            "\u001b[2K     \u001b[90m━━━━━━━━━━━━━━━━━━━━━━━━━━━━━━━━━━━━━━━━\u001b[0m \u001b[32m1.7/1.7 MB\u001b[0m \u001b[31m41.2 MB/s\u001b[0m eta \u001b[36m0:00:00\u001b[0m\n",
            "\u001b[?25h  Installing build dependencies ... \u001b[?25l\u001b[?25hdone\n",
            "  Getting requirements to build wheel ... \u001b[?25l\u001b[?25hdone\n",
            "  Preparing metadata (pyproject.toml) ... \u001b[?25l\u001b[?25hdone\n",
            "Collecting pytools>=2011.2 (from pycuda)\n",
            "  Downloading pytools-2024.1.12-py3-none-any.whl.metadata (3.0 kB)\n",
            "Requirement already satisfied: platformdirs>=2.2.0 in /usr/local/lib/python3.10/dist-packages (from pycuda) (4.2.2)\n",
            "Collecting mako (from pycuda)\n",
            "  Downloading Mako-1.3.5-py3-none-any.whl.metadata (2.9 kB)\n",
            "Requirement already satisfied: typing-extensions>=4 in /usr/local/lib/python3.10/dist-packages (from pytools>=2011.2->pycuda) (4.12.2)\n",
            "Requirement already satisfied: MarkupSafe>=0.9.2 in /usr/local/lib/python3.10/dist-packages (from mako->pycuda) (2.1.5)\n",
            "Downloading pytools-2024.1.12-py3-none-any.whl (88 kB)\n",
            "\u001b[2K   \u001b[90m━━━━━━━━━━━━━━━━━━━━━━━━━━━━━━━━━━━━━━━━\u001b[0m \u001b[32m88.8/88.8 kB\u001b[0m \u001b[31m9.1 MB/s\u001b[0m eta \u001b[36m0:00:00\u001b[0m\n",
            "\u001b[?25hDownloading Mako-1.3.5-py3-none-any.whl (78 kB)\n",
            "\u001b[2K   \u001b[90m━━━━━━━━━━━━━━━━━━━━━━━━━━━━━━━━━━━━━━━━\u001b[0m \u001b[32m78.6/78.6 kB\u001b[0m \u001b[31m7.4 MB/s\u001b[0m eta \u001b[36m0:00:00\u001b[0m\n",
            "\u001b[?25hBuilding wheels for collected packages: pycuda\n",
            "  Building wheel for pycuda (pyproject.toml) ... \u001b[?25l\u001b[?25hdone\n",
            "  Created wheel for pycuda: filename=pycuda-2024.1.2-cp310-cp310-linux_x86_64.whl size=662246 sha256=d67cb3b314f8b82a8d89bf387f1cf7952a2b9966afc98b1f293750d1bbc82a41\n",
            "  Stored in directory: /root/.cache/pip/wheels/70/63/40/4bf006182f942d3516b71bb2ff3b57ccbdb8b2c0ee81882b6e\n",
            "Successfully built pycuda\n",
            "Installing collected packages: pytools, mako, pycuda\n",
            "Successfully installed mako-1.3.5 pycuda-2024.1.2 pytools-2024.1.12\n"
          ]
        }
      ],
      "source": [
        "if(IN_COLAB):\n",
        "    !curl https://raw.githubusercontent.com/dotimothy/DuckDetector/model/requirements.txt -o ./requirements.txt\n",
        "!pip install -r requirements.txt"
      ]
    },
    {
      "cell_type": "code",
      "execution_count": 6,
      "metadata": {
        "id": "c5Zw8cgFKMWK"
      },
      "outputs": [],
      "source": [
        "# Importing Libraries\n",
        "import os\n",
        "import torch\n",
        "import cv2 as cv\n",
        "import numpy as np\n",
        "import cpuinfo\n",
        "import psutil\n",
        "import pycuda.driver as cuda\n",
        "import ultralytics\n",
        "\n",
        "# For Printing Purposes\n",
        "class color:\n",
        "   PURPLE = '\\033[95m'\n",
        "   CYAN = '\\033[96m'\n",
        "   DARKCYAN = '\\033[36m'\n",
        "   BLUE = '\\033[94m'\n",
        "   GREEN = '\\033[92m'\n",
        "   YELLOW = '\\033[93m'\n",
        "   RED = '\\033[91m'\n",
        "   BOLD = '\\033[1m'\n",
        "   UNDERLINE = '\\033[4m'\n",
        "   END = '\\033[0m'"
      ]
    },
    {
      "cell_type": "code",
      "execution_count": 9,
      "metadata": {
        "id": "Xt6n5OSrKMWK",
        "outputId": "a1ec7e6d-ee40-44af-be9e-59d86db33a00",
        "colab": {
          "base_uri": "https://localhost:8080/"
        }
      },
      "outputs": [
        {
          "output_type": "stream",
          "name": "stdout",
          "text": [
            "\u001b[1m***** Environment Specifications *****\u001b[0m\n",
            "\u001b[1mIn CoLab\u001b[0m: True\n",
            "\n",
            "\u001b[1mCPU:\u001b[0m Intel(R) Xeon(R) CPU @ 2.00GHz\n",
            "\t- \u001b[1m# CPU Cores:\u001b[0m 1\n",
            "\t- \u001b[1m# CPU Threads:\u001b[0m 2\n",
            "\t- \u001b[1mTotal System RAM:\u001b[0m 12.7 GB \n",
            "\n",
            "\u001b[1mGPU:\u001b[0m Tesla T4\n",
            "\t- \u001b[1mTotal GPU VRAM:\u001b[0m 14.7 GB\n"
          ]
        }
      ],
      "source": [
        "# Environment Specifications\n",
        "print(f'{color.BOLD}***** Environment Specifications *****{color.END}')\n",
        "print(f\"{color.BOLD}In CoLab{color.END}: {IN_COLAB}\\n\")\n",
        "\n",
        "# Device to Develop PyTorch Models On\n",
        "use_cuda = torch.cuda.is_available()\n",
        "use_mps = torch.backends.mps.is_available()\n",
        "device = torch.device('cuda' if use_cuda else ('mps' if use_mps else 'cpu'))\n",
        "print(f'{color.BOLD}CPU:{color.END} {cpuinfo.get_cpu_info()[\"brand_raw\"]}')\n",
        "print(f'\\t- {color.BOLD}# CPU Cores:{color.END} {psutil.cpu_count(logical=False)}')\n",
        "print(f'\\t- {color.BOLD}# CPU Threads:{color.END} {psutil.cpu_count(logical=True)}')\n",
        "print(f'\\t- {color.BOLD}Total System RAM:{color.END} {psutil.virtual_memory().total/(1024**3):.1f} GB ')\n",
        "print(f'\\n{color.BOLD}GPU:{color.END} {torch.cuda.get_device_name(device) if use_cuda else None}')\n",
        "if(use_cuda):\n",
        "    print(f'\\t- {color.BOLD}Total GPU VRAM:{color.END} {torch.cuda.get_device_properties(device).total_memory/(1024**3):.1f} GB')"
      ]
    },
    {
      "cell_type": "markdown",
      "metadata": {
        "id": "AQdZ-e5DKMWK"
      },
      "source": [
        "## Dataset Preprocessing"
      ]
    },
    {
      "cell_type": "code",
      "execution_count": null,
      "metadata": {
        "id": "Yg3iH0kRKMWK"
      },
      "outputs": [],
      "source": []
    }
  ],
  "metadata": {
    "kernelspec": {
      "display_name": "Python 3",
      "name": "python3"
    },
    "language_info": {
      "codemirror_mode": {
        "name": "ipython",
        "version": 3
      },
      "file_extension": ".py",
      "mimetype": "text/x-python",
      "name": "python",
      "nbconvert_exporter": "python",
      "pygments_lexer": "ipython3",
      "version": "3.11.7"
    },
    "colab": {
      "provenance": [],
      "gpuType": "T4",
      "include_colab_link": true
    },
    "accelerator": "GPU"
  },
  "nbformat": 4,
  "nbformat_minor": 0
}